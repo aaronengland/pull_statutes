{
 "cells": [
  {
   "cell_type": "code",
   "execution_count": 1,
   "id": "cbcf5dab",
   "metadata": {},
   "outputs": [],
   "source": [
    "import os\n",
    "import requests\n",
    "from bs4 import BeautifulSoup\n",
    "import pandas as pd\n",
    "import numpy as np\n",
    "from pprint import pprint\n",
    "from tqdm import tqdm"
   ]
  },
  {
   "cell_type": "markdown",
   "id": "6ca0abaa",
   "metadata": {},
   "source": [
    "## Statutes POC (proof-of-concept)"
   ]
  },
  {
   "cell_type": "code",
   "execution_count": 2,
   "id": "c67fa651",
   "metadata": {},
   "outputs": [
    {
     "name": "stdout",
     "output_type": "stream",
     "text": [
      "State Statutes:\n",
      "{'Missouri': {'str_match': 'Notice of arbitration provisions required.  '\n",
      "                           '(8/28/1980)',\n",
      "              'str_url': 'https://revisor.mo.gov/main/OneChapter.aspx?chapter=435'}}\n"
     ]
    }
   ],
   "source": [
    "dict_url = {\n",
    "    'Missouri': {\n",
    "        'str_url': 'https://revisor.mo.gov/main/OneChapter.aspx?chapter=435',\n",
    "        'str_match': 'Notice of arbitration provisions required.  (8/28/1980)',\n",
    "    },   \n",
    "}\n",
    "print('State Statutes:')\n",
    "pprint(dict_url)"
   ]
  },
  {
   "cell_type": "markdown",
   "id": "72f58f5f",
   "metadata": {},
   "source": [
    "## Pick a State"
   ]
  },
  {
   "cell_type": "code",
   "execution_count": 3,
   "id": "f975966b",
   "metadata": {},
   "outputs": [
    {
     "name": "stdout",
     "output_type": "stream",
     "text": [
      "State: Missouri\n",
      "URL: https://revisor.mo.gov/main/OneChapter.aspx?chapter=435\n",
      "Matching String: Notice of arbitration provisions required.  (8/28/1980)\n"
     ]
    }
   ],
   "source": [
    "str_state = 'Missouri'\n",
    "str_url = dict_url[str_state]['str_url']\n",
    "str_match = dict_url[str_state]['str_match']\n",
    "print(f'State: {str_state}')\n",
    "print(f'URL: {str_url}')\n",
    "print(f'Matching String: {str_match}')"
   ]
  },
  {
   "cell_type": "markdown",
   "id": "deaeccc7",
   "metadata": {},
   "source": [
    "## Get info from page"
   ]
  },
  {
   "cell_type": "code",
   "execution_count": 4,
   "id": "4564b00f",
   "metadata": {},
   "outputs": [],
   "source": [
    "# get request\n",
    "r = requests.get(str_url)\n",
    "# get content of page\n",
    "soup = BeautifulSoup(r.content, 'html.parser')"
   ]
  },
  {
   "cell_type": "code",
   "execution_count": 5,
   "id": "803b8585",
   "metadata": {},
   "outputs": [
    {
     "name": "stdout",
     "output_type": "stream",
     "text": [
      "New URL: https://revisor.mo.gov/main/OneSection.aspx?section=435.460&bid=24234&hl=\n"
     ]
    }
   ],
   "source": [
    "# get tables\n",
    "list_tables = soup.findAll('table')\n",
    "# get the table we want\n",
    "table = list_tables[1]\n",
    "# get rows\n",
    "list_rows = table.findAll('tr')[1:]\n",
    "\n",
    "# iterate through rows and find the one where the provision matches what we are looking for\n",
    "for a, row in enumerate(list_rows):\n",
    "    try:\n",
    "        # get dimensions\n",
    "        list_cols = row.findAll('td')\n",
    "        # get section\n",
    "        str_section = list_cols[0].text.strip()\n",
    "        # get section url\n",
    "        str_section_url = list_cols[0].find('a', href=True)['href']\n",
    "        # get provisions\n",
    "        str_provisions = list_cols[1].text\n",
    "        # logic\n",
    "        if str_provisions == str_match:\n",
    "            str_url_new_pre = str_url.split('/OneChapter')[0]\n",
    "            str_url_new_inter = 'OneSection'\n",
    "            str_url_new_post = str_section_url.split('PageSelect.')[1]\n",
    "            str_url_new = f'{str_url_new_pre}/{str_url_new_inter}.{str_url_new_post}'\n",
    "            break\n",
    "    except TypeError:\n",
    "        pass\n",
    "\n",
    "# message\n",
    "print(f'New URL: {str_url_new}')"
   ]
  },
  {
   "cell_type": "code",
   "execution_count": 6,
   "id": "8a6a00f4",
   "metadata": {},
   "outputs": [],
   "source": [
    "# get request\n",
    "r = requests.get(str_url_new)\n",
    "# get content of page\n",
    "soup = BeautifulSoup(r.content, 'html.parser')"
   ]
  },
  {
   "cell_type": "code",
   "execution_count": 7,
   "id": "e465030e",
   "metadata": {},
   "outputs": [
    {
     "name": "stdout",
     "output_type": "stream",
     "text": [
      "State: Missouri\n",
      "\n",
      "Original URL: https://revisor.mo.gov/main/OneChapter.aspx?chapter=435\n",
      "\n",
      "New URL: https://revisor.mo.gov/main/OneSection.aspx?section=435.460&bid=24234&hl=\n",
      "\n",
      "Description:\n",
      "- the space provided for signatures a statement\n",
      "- in ten point capital letters\n",
      "\n",
      "Example:\n",
      "\"THIS CONTRACT CONTAINS A BINDING ARBITRATION PROVISION WHICH MAY BE ENFORCED BY THE PARTIES.\"\n"
     ]
    }
   ],
   "source": [
    "# get description\n",
    "list_str_description = soup.find('p', {'class': 'norm'}).text.split('—')[1].strip().split(',')[2:-1]\n",
    "list_str_description = [str_description.strip() for str_description in list_str_description]\n",
    "# get example\n",
    "str_example = soup.find('p', {'class': 'indentblk norm'}).text\n",
    "print(f'State: {str_state}')\n",
    "print('')\n",
    "print(f'Original URL: {str_url}')\n",
    "print('')\n",
    "print(f'New URL: {str_url_new}')\n",
    "print('')\n",
    "print('Description:')\n",
    "for str_description in list_str_description:\n",
    "    print(f'- {str_description}')\n",
    "print('')\n",
    "print('Example:')\n",
    "print(str_example)"
   ]
  }
 ],
 "metadata": {
  "kernelspec": {
   "display_name": "Python 3 (ipykernel)",
   "language": "python",
   "name": "python3"
  },
  "language_info": {
   "codemirror_mode": {
    "name": "ipython",
    "version": 3
   },
   "file_extension": ".py",
   "mimetype": "text/x-python",
   "name": "python",
   "nbconvert_exporter": "python",
   "pygments_lexer": "ipython3",
   "version": "3.9.7"
  }
 },
 "nbformat": 4,
 "nbformat_minor": 5
}
